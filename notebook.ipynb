{
 "cells": [
  {
   "metadata": {},
   "cell_type": "code",
   "source": [
    "%%bash\n",
    "pip -q install trl\n",
    "pip -q install peft\n",
    "pip -q install torch\n",
    "pip -q install datasets\n",
    "pip -q install transformers\n",
    "pip -q install peft"
   ],
   "id": "7dffe95f43ede62c",
   "outputs": [],
   "execution_count": null
  },
  {
   "metadata": {},
   "cell_type": "code",
   "source": [
    "import torch\n",
    "from trl import SFTTrainer\n",
    "from datasets import load_from_disk, load_dataset\n",
    "from peft import LoraConfig, get_peft_model, prepare_model_for_kbit_training\n",
    "from transformers import AutoModelForCausalLM, AutoTokenizer, TrainingArguments\n",
    "import pandas as pd"
   ],
   "id": "12368d800fd97a1c",
   "outputs": [],
   "execution_count": null
  },
  {
   "metadata": {},
   "cell_type": "code",
   "source": [
    "# df = pd.read_csv('TRAIN_DATA.csv')\n",
    "# df\n",
    "\n",
    "# data_files = {\"train\":\"TRAIN_DATA.parquet\",\"test\":\"TEST_DATA.parquet\"}\n",
    "# raw_datasets = load_dataset(\"parquet\", data_dir='./', data_files=data_files)\n",
    "# raw_datasets\n",
    "\n",
    "# train_dataset = load_from_disk('./TRAIN_DATA.parquet')\n",
    "\n",
    "# from datasets import load_dataset\n",
    "dataset = load_dataset('csv', data_files='TRAIN_DATA.csv')\n",
    "dataset_A = dataset['train']\n",
    "\n",
    "# dataset = load_dataset('csv', data_files={'train': 'TRAIN_DATA.csv', 'test': 'TRAIN_DATA.csv'})\n",
    "dataset_A"
   ],
   "id": "ccefc2c6c19fc04a",
   "outputs": [],
   "execution_count": null
  },
  {
   "metadata": {},
   "cell_type": "code",
   "source": "import textwrap",
   "id": "a77078a7a17f2012",
   "outputs": [],
   "execution_count": null
  },
  {
   "metadata": {},
   "cell_type": "code",
   "source": [
    "for index in range(3):\n",
    "    print(\"---\"*15)\n",
    "    print(\"Instruction: {}\".format(textwrap.fill(df.iloc[index][\"instruction\"],width=50)))\n",
    "    print(\"Output: {}\".format(textwrap.fill(df.iloc[index][\"output\"],width=50)))\n",
    "    print(\"Text: {}\".format(textwrap.fill(df.iloc[index][\"text\"],width=50)))"
   ],
   "id": "8ab489b98f592227",
   "outputs": [],
   "execution_count": null
  },
  {
   "metadata": {},
   "cell_type": "code",
   "source": [
    "pretrained_model_name = \"Salesforce/xgen-7b-8k-base\"\n",
    "model = AutoModelForCausalLM.from_pretrained(pretrained_model_name, torch_dtype=torch.bfloat16)\n"
   ],
   "id": "4a7a60a96392fcc1",
   "outputs": [],
   "execution_count": null
  },
  {
   "metadata": {},
   "cell_type": "code",
   "source": "tokenizer = AutoTokenizer.from_pretrained(pretrained_model_name, trust_remote_code=True)",
   "id": "d1ef48253ccac2c6",
   "outputs": [],
   "execution_count": null
  },
  {
   "metadata": {},
   "cell_type": "code",
   "source": [
    "model_training_args = TrainingArguments(\n",
    "    output_dir=\"xgen-7b-8k-base-fine-tuned\",\n",
    "    per_device_train_batch_size=4,\n",
    "    optim=\"adamw_torch\",\n",
    "    logging_steps=80,\n",
    "    learning_rate=2e-4,\n",
    "    warmup_ratio=0.1,\n",
    "    lr_scheduler_type=\"linear\",\n",
    "    num_train_epochs=100,\n",
    "    save_strategy=\"epoch\"\n",
    ")"
   ],
   "id": "6e4dee08d75ce0d6",
   "outputs": [],
   "execution_count": null
  },
  {
   "metadata": {},
   "cell_type": "code",
   "source": "lora_peft_config = LoraConfig(r=16, lora_alpha=32, lora_dropout=0.05, task_type=\"CAUSAL_LM\")",
   "id": "57485de55ebbdccb",
   "outputs": [],
   "execution_count": null
  },
  {
   "metadata": {},
   "cell_type": "code",
   "source": [
    "SFT_trainer = SFTTrainer(\n",
    "    model=model,\n",
    "    train_dataset=dataset_A,\n",
    "    dataset_text_field=\"text\",\n",
    "    max_seq_length=1024,\n",
    "    tokenizer=tokenizer,\n",
    "    args=model_training_args,\n",
    "    peft_config=lora_peft_config,\n",
    ")"
   ],
   "id": "597ecaecf4828a5f",
   "outputs": [],
   "execution_count": null
  },
  {
   "metadata": {},
   "cell_type": "code",
   "source": "",
   "id": "3e8a9440915ebbbb",
   "outputs": [],
   "execution_count": null
  }
 ],
 "metadata": {
  "kernelspec": {
   "display_name": "Python 3",
   "language": "python",
   "name": "python3"
  },
  "language_info": {
   "codemirror_mode": {
    "name": "ipython",
    "version": 2
   },
   "file_extension": ".py",
   "mimetype": "text/x-python",
   "name": "python",
   "nbconvert_exporter": "python",
   "pygments_lexer": "ipython2",
   "version": "2.7.6"
  }
 },
 "nbformat": 4,
 "nbformat_minor": 5
}
